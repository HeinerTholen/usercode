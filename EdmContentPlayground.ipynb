{
 "cells": [
  {
   "cell_type": "code",
   "execution_count": 2,
   "metadata": {
    "collapsed": false
   },
   "outputs": [],
   "source": [
    "from DataFormats.FWLite import Handle, Events\n",
    "\n",
    "import ROOT\n",
    "%jsroot on"
   ]
  },
  {
   "cell_type": "code",
   "execution_count": 5,
   "metadata": {
    "collapsed": true
   },
   "outputs": [],
   "source": [
    "events = Events('edm_tuple.root')"
   ]
  },
  {
   "cell_type": "code",
   "execution_count": 4,
   "metadata": {
    "collapsed": true
   },
   "outputs": [],
   "source": [
    "offlinePfJets_source, offlinePfJets_label       = Handle(\"vector<pat::Jet>\"), (\"slimmedJetsAK8\")"
   ]
  },
  {
   "cell_type": "code",
   "execution_count": 6,
   "metadata": {
    "collapsed": true
   },
   "outputs": [],
   "source": [
    "e = next(iter(events))"
   ]
  },
  {
   "cell_type": "code",
   "execution_count": 8,
   "metadata": {
    "collapsed": false
   },
   "outputs": [
    {
     "data": {
      "text/plain": [
       "True"
      ]
     },
     "execution_count": 8,
     "metadata": {},
     "output_type": "execute_result"
    }
   ],
   "source": [
    "e.getByLabel(offlinePfJets_label, offlinePfJets_source)"
   ]
  },
  {
   "cell_type": "code",
   "execution_count": 10,
   "metadata": {
    "collapsed": false
   },
   "outputs": [],
   "source": [
    "jets = offlinePfJets_source.product()"
   ]
  },
  {
   "cell_type": "code",
   "execution_count": 12,
   "metadata": {
    "collapsed": false
   },
   "outputs": [],
   "source": [
    "j1, j2 = jets"
   ]
  },
  {
   "cell_type": "code",
   "execution_count": 14,
   "metadata": {
    "collapsed": false
   },
   "outputs": [
    {
     "data": {
      "text/plain": [
       "['NjettinessAK8Puppi:tau1',\n",
       " 'NjettinessAK8Puppi:tau2',\n",
       " 'NjettinessAK8Puppi:tau3',\n",
       " 'ak8PFJetsCHSValueMap:NjettinessAK8CHSTau1',\n",
       " 'ak8PFJetsCHSValueMap:NjettinessAK8CHSTau2',\n",
       " 'ak8PFJetsCHSValueMap:NjettinessAK8CHSTau3',\n",
       " 'ak8PFJetsCHSValueMap:ak8PFJetsCHSPrunedMass',\n",
       " 'ak8PFJetsCHSValueMap:ak8PFJetsCHSSoftDropMass',\n",
       " 'ak8PFJetsCHSValueMap:eta',\n",
       " 'ak8PFJetsCHSValueMap:mass',\n",
       " 'ak8PFJetsCHSValueMap:phi',\n",
       " 'ak8PFJetsCHSValueMap:pt',\n",
       " 'ak8PFJetsPuppiSoftDropMass']"
      ]
     },
     "execution_count": 14,
     "metadata": {},
     "output_type": "execute_result"
    }
   ],
   "source": [
    "list(j1.userFloatNames())"
   ]
  },
  {
   "cell_type": "code",
   "execution_count": 15,
   "metadata": {
    "collapsed": false
   },
   "outputs": [
    {
     "data": {
      "text/plain": [
       "133.62564086914062"
      ]
     },
     "execution_count": 15,
     "metadata": {},
     "output_type": "execute_result"
    }
   ],
   "source": [
    "j1.userFloat('ak8PFJetsCHSValueMap:ak8PFJetsCHSSoftDropMass')"
   ]
  },
  {
   "cell_type": "code",
   "execution_count": null,
   "metadata": {
    "collapsed": true
   },
   "outputs": [],
   "source": []
  }
 ],
 "metadata": {
  "kernelspec": {
   "display_name": "Python 2",
   "language": "python",
   "name": "python2"
  },
  "language_info": {
   "codemirror_mode": {
    "name": "ipython",
    "version": 2
   },
   "file_extension": ".py",
   "mimetype": "text/x-python",
   "name": "python",
   "nbconvert_exporter": "python",
   "pygments_lexer": "ipython2",
   "version": "2.7.11"
  }
 },
 "nbformat": 4,
 "nbformat_minor": 2
}
